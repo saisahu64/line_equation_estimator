{
 "cells": [
  {
   "attachments": {},
   "cell_type": "markdown",
   "id": "372243c7-5a97-4d48-9294-6aa82b23d1d8",
   "metadata": {},
   "source": [
    "# Project Overview\n",
    "Given an image input of a line drawn over a cartesian coordinate system, with the X and Y axis marked with their cordinates the system could estimate the slope and Y-intercept of the line. The enitre drawing should be done with a black pencil over a white paper.\n",
    "\n",
    "sample input:\n",
    "<div>\n",
    "    <img src=\"sample_input.jpg\" width=\"600\"/>\n",
    "</div>\n",
    "sample output:\n",
    "\n",
    "Y = 3.7X + 5\n",
    "\n",
    "Here, both X and Y axis coordinates are supposed to maintain a 1 cm distant and the numbers are supposed to be written with a good handwriting. At each coordinate mark, there should be a small cross sign that represent a proper coordinate mark. Refer the sample input image.  "
   ]
  },
  {
   "cell_type": "markdown",
   "id": "a8ec43a7-c858-4513-8ee8-72f0b17f1393",
   "metadata": {},
   "source": [
    "### Generating a few sample images"
   ]
  },
  {
   "cell_type": "code",
   "execution_count": null,
   "id": "27efcbf2-3d59-4a66-8cf1-89c136631666",
   "metadata": {},
   "outputs": [],
   "source": []
  }
 ],
 "metadata": {
  "kernelspec": {
   "display_name": "Python 3 (ipykernel)",
   "language": "python",
   "name": "python3"
  },
  "language_info": {
   "codemirror_mode": {
    "name": "ipython",
    "version": 3
   },
   "file_extension": ".py",
   "mimetype": "text/x-python",
   "name": "python",
   "nbconvert_exporter": "python",
   "pygments_lexer": "ipython3",
   "version": "3.11.2"
  }
 },
 "nbformat": 4,
 "nbformat_minor": 5
}
