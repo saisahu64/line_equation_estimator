{
 "cells": [
  {
   "attachments": {},
   "cell_type": "markdown",
   "id": "372243c7-5a97-4d48-9294-6aa82b23d1d8",
   "metadata": {},
   "source": [
    "# Project Overview\n",
    "Given an image input of a line drawn over a cartesian coordinate system, with the X and Y axis marked with their cordinates the system could estimate the slope and Y-intercept of the line. The enitre drawing should be done with a black pencil over a white paper.\n",
    "\n",
    "sample input:\n",
    "<div>\n",
    "    <img src=\"sample_input.jpg\" width=\"600\"/>\n",
    "</div>\n",
    "sample output:\n",
    "\n",
    "Y = 3.7X + 5\n",
    "\n",
    "Here, both X and Y axis coordinates are supposed to maintain a 1 cm distant and the numbers are supposed to be written with a good handwriting. At each coordinate mark, there should be a small cross sign that represent a proper coordinate mark. Refer the sample input image.  "
   ]
  },
  {
   "cell_type": "markdown",
   "id": "a8ec43a7-c858-4513-8ee8-72f0b17f1393",
   "metadata": {},
   "source": [
    "### Generating a few sample images"
   ]
  },
  {
   "cell_type": "code",
   "execution_count": 2,
   "id": "27efcbf2-3d59-4a66-8cf1-89c136631666",
   "metadata": {},
   "outputs": [
    {
     "name": "stdout",
     "output_type": "stream",
     "text": [
      "Collecting matplotlib\n",
      "  Using cached matplotlib-3.9.0-cp311-cp311-manylinux_2_17_x86_64.manylinux2014_x86_64.whl (8.3 MB)\n",
      "Collecting contourpy>=1.0.1\n",
      "  Using cached contourpy-1.2.1-cp311-cp311-manylinux_2_17_x86_64.manylinux2014_x86_64.whl (306 kB)\n",
      "Collecting cycler>=0.10\n",
      "  Using cached cycler-0.12.1-py3-none-any.whl (8.3 kB)\n",
      "Collecting fonttools>=4.22.0\n",
      "  Using cached fonttools-4.53.0-cp311-cp311-manylinux_2_17_x86_64.manylinux2014_x86_64.whl (4.9 MB)\n",
      "Collecting kiwisolver>=1.3.1\n",
      "  Using cached kiwisolver-1.4.5-cp311-cp311-manylinux_2_17_x86_64.manylinux2014_x86_64.whl (1.4 MB)\n",
      "Collecting numpy>=1.23\n",
      "  Using cached numpy-1.26.4-cp311-cp311-manylinux_2_17_x86_64.manylinux2014_x86_64.whl (18.3 MB)\n",
      "Requirement already satisfied: packaging>=20.0 in /home/sai/self/projects/ds/lib/python3.11/site-packages (from matplotlib) (24.1)\n",
      "Collecting pillow>=8\n",
      "  Using cached pillow-10.3.0-cp311-cp311-manylinux_2_28_x86_64.whl (4.5 MB)\n",
      "Collecting pyparsing>=2.3.1\n",
      "  Using cached pyparsing-3.1.2-py3-none-any.whl (103 kB)\n",
      "Requirement already satisfied: python-dateutil>=2.7 in /home/sai/self/projects/ds/lib/python3.11/site-packages (from matplotlib) (2.9.0.post0)\n",
      "Requirement already satisfied: six>=1.5 in /home/sai/self/projects/ds/lib/python3.11/site-packages (from python-dateutil>=2.7->matplotlib) (1.16.0)\n",
      "Installing collected packages: pyparsing, pillow, numpy, kiwisolver, fonttools, cycler, contourpy, matplotlib\n",
      "Successfully installed contourpy-1.2.1 cycler-0.12.1 fonttools-4.53.0 kiwisolver-1.4.5 matplotlib-3.9.0 numpy-1.26.4 pillow-10.3.0 pyparsing-3.1.2\n"
     ]
    }
   ],
   "source": [
    "! pip install matplotlib"
   ]
  },
  {
   "cell_type": "code",
   "execution_count": 3,
   "id": "09c153eb-7940-41bc-b62a-f8c5117c473a",
   "metadata": {},
   "outputs": [],
   "source": [
    "import matplotlib.pyplot as plt"
   ]
  },
  {
   "cell_type": "code",
   "execution_count": 13,
   "id": "7b236135-fb3d-47a9-8120-58f72ab0be28",
   "metadata": {},
   "outputs": [
    {
     "name": "stdout",
     "output_type": "stream",
     "text": [
      "[1, 2, 3, 4]\n",
      "[3, 4, 5, 6]\n"
     ]
    },
    {
     "data": {
      "image/png": "[encoded data removed]",
      "text/plain": [
       "<Figure size 640x480 with 1 Axes>"
      ]
     },
     "metadata": {},
     "output_type": "display_data"
    }
   ],
   "source": [
    "def func(m, c, x):\n",
    "    y = m*x + c\n",
    "    return y\n",
    "\n",
    "x = [1, 2, 3, 4]\n",
    "y = []\n",
    "\n",
    "m = 1\n",
    "c = 2\n",
    "\n",
    "for ele in x:\n",
    "    y.append(func(m, c, ele))\n",
    "\n",
    "print(x)\n",
    "print(y)\n",
    "\n",
    "plt.plot(x, y, color=\"black\")\n",
    "plt.axis(\"equal\")\n",
    "\n",
    "plt.show()"
   ]
  },
  {
   "cell_type": "code",
   "execution_count": null,
   "id": "31606452-ec60-41fb-9ba2-79af9a34c62a",
   "metadata": {},
   "outputs": [],
   "source": []
  }
 ],
 "metadata": {
  "kernelspec": {
   "display_name": "Python 3 (ipykernel)",
   "language": "python",
   "name": "python3"
  },
  "language_info": {
   "codemirror_mode": {
    "name": "ipython",
    "version": 3
   },
   "file_extension": ".py",
   "mimetype": "text/x-python",
   "name": "python",
   "nbconvert_exporter": "python",
   "pygments_lexer": "ipython3",
   "version": "3.11.2"
  }
 },
 "nbformat": 4,
 "nbformat_minor": 5
}
